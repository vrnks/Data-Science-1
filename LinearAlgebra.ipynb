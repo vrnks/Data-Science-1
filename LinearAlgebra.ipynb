{
 "cells": [
  {
   "cell_type": "markdown",
   "metadata": {},
   "source": [
    "Створіть одновимірний масив (вектор) з першими 10-ма натуральними числами та виведіть його значення."
   ]
  },
  {
   "cell_type": "code",
   "execution_count": 2,
   "metadata": {},
   "outputs": [
    {
     "name": "stdout",
     "output_type": "stream",
     "text": [
      "[ 1  2  3  4  5  6  7  8  9 10]\n"
     ]
    }
   ],
   "source": [
    "import numpy as np\n",
    "\n",
    "v = np.array([1, 2, 3, 4, 5, 6, 7, 8, 9, 10])\n",
    "print(v)"
   ]
  },
  {
   "cell_type": "markdown",
   "metadata": {},
   "source": [
    "Створіть двовимірний масив (матрицю) розміром 3x3, заповніть його нулями та виведіть його значення."
   ]
  },
  {
   "cell_type": "code",
   "execution_count": 3,
   "metadata": {},
   "outputs": [
    {
     "name": "stdout",
     "output_type": "stream",
     "text": [
      "[[0 0 0]\n",
      " [0 0 0]\n",
      " [0 0 0]]\n"
     ]
    }
   ],
   "source": [
    "a = np.zeros((3, 3), dtype=int)\n",
    "print(a)"
   ]
  },
  {
   "cell_type": "markdown",
   "metadata": {},
   "source": [
    "Створіть масив розміром 5x5, заповніть його випадковими цілими числами в діапазоні від 1 до 10 та виведіть його значення."
   ]
  },
  {
   "cell_type": "code",
   "execution_count": 11,
   "metadata": {},
   "outputs": [
    {
     "name": "stdout",
     "output_type": "stream",
     "text": [
      "[[ 2  7  8  8  5]\n",
      " [ 6  2  4  6  8]\n",
      " [ 6  7  4 10  5]\n",
      " [ 5  7  4  9  6]\n",
      " [ 7  4  4  7  6]]\n"
     ]
    }
   ],
   "source": [
    "\n",
    "b = np.random.randint(1, 11, (5, 5))\n",
    "print(b)"
   ]
  },
  {
   "cell_type": "markdown",
   "metadata": {},
   "source": [
    "Створіть масив розміром 4x4, заповніть його випадковими дійсними числами в діапазоні від 0 до 1 та виведіть його значення."
   ]
  },
  {
   "cell_type": "code",
   "execution_count": 12,
   "metadata": {},
   "outputs": [
    {
     "name": "stdout",
     "output_type": "stream",
     "text": [
      "[[0.46011146 0.76338481 0.38364247 0.99731933]\n",
      " [0.98127549 0.34875875 0.53822828 0.68984784]\n",
      " [0.46824226 0.78004611 0.67029393 0.55656935]\n",
      " [0.96617458 0.16716435 0.58586404 0.31296656]]\n"
     ]
    }
   ],
   "source": [
    "\n",
    "c = np.random.random((4, 4))\n",
    "print(c)"
   ]
  },
  {
   "cell_type": "markdown",
   "metadata": {},
   "source": [
    "Створіть два одновимірних масиви розміром 5, заповніть їх випадковими цілими числами в діапазоні від 1 до 10 та виконайте на них поелементні операції додавання, віднімання та множення."
   ]
  },
  {
   "cell_type": "code",
   "execution_count": 34,
   "metadata": {},
   "outputs": [
    {
     "name": "stdout",
     "output_type": "stream",
     "text": [
      "[[5 1 3 2 5]] [[ 4  6  3 10  2]]\n"
     ]
    }
   ],
   "source": [
    "m = np.random.randint(1, 11, (1, 5))\n",
    "n = np.random.randint(1, 11, (1, 5))\n",
    "print(m, n)"
   ]
  },
  {
   "cell_type": "code",
   "execution_count": 35,
   "metadata": {},
   "outputs": [
    {
     "name": "stdout",
     "output_type": "stream",
     "text": [
      "[[ 9  7  6 12  7]]\n",
      "----------\n",
      "[[ 1 -5  0 -8  3]]\n",
      "----------\n",
      "[[20  6  9 20 10]]\n"
     ]
    }
   ],
   "source": [
    "print(m + n)\n",
    "print(\"----------\")\n",
    "print(m - n)\n",
    "print(\"----------\")\n",
    "print(m * n)"
   ]
  },
  {
   "cell_type": "markdown",
   "metadata": {},
   "source": [
    "Створіть два вектори розміром 7, заповніть довільними числами та знайдіть їх скалярний добуток."
   ]
  },
  {
   "cell_type": "code",
   "execution_count": 21,
   "metadata": {},
   "outputs": [
    {
     "name": "stdout",
     "output_type": "stream",
     "text": [
      "[1. 2. 3. 4. 5. 6. 7.] [ 7.          8.16666667  9.33333333 10.5        11.66666667 12.83333333\n",
      " 14.        ]\n",
      "326.6666666666667\n"
     ]
    }
   ],
   "source": [
    "a = np.linspace(1, 7, num=7)\n",
    "b = np.linspace(7, 14, num=7)\n",
    "print(a, b)\n",
    "print(np.dot(a, b))"
   ]
  },
  {
   "cell_type": "markdown",
   "metadata": {},
   "source": [
    "Створіть дві матриці розміром 2x2 та 2x3, заповніть їх випадковими цілими числами в діапазоні від 1 до 10 та перемножте їх між собою."
   ]
  },
  {
   "cell_type": "code",
   "execution_count": 4,
   "metadata": {},
   "outputs": [
    {
     "name": "stdout",
     "output_type": "stream",
     "text": [
      "[[68 80 56]\n",
      " [89 95 78]]\n"
     ]
    }
   ],
   "source": [
    "m = np.random.randint(1, 11, (2, 2))\n",
    "n = np.random.randint(1, 11, (2, 3))\n",
    "print(np.dot(m, n))"
   ]
  },
  {
   "cell_type": "markdown",
   "metadata": {},
   "source": [
    "Створіть матрицю розміром 3x3, заповніть її випадковими цілими числами в діапазоні від 1 до 10 та знайдіть її обернену матрицю."
   ]
  },
  {
   "cell_type": "code",
   "execution_count": 32,
   "metadata": {},
   "outputs": [
    {
     "name": "stdout",
     "output_type": "stream",
     "text": [
      "[[ 1  4  9]\n",
      " [ 8  1  3]\n",
      " [10 10  1]]\n",
      "----------\n",
      "[[-0.04208999  0.12481858  0.00435414]\n",
      " [ 0.03193033 -0.12917271  0.10014514]\n",
      " [ 0.10159652  0.04354136 -0.04499274]]\n"
     ]
    }
   ],
   "source": [
    "c = np.random.randint(1, 11, (3, 3))\n",
    "print(c)\n",
    "print(\"----------\")\n",
    "c_inv = np.linalg.inv(c)\n",
    "print(c_inv)"
   ]
  },
  {
   "cell_type": "markdown",
   "metadata": {},
   "source": [
    "Створіть матрицю розміром 4x4, заповніть її випадковими дійсними числами в діапазоні від 0 до 1 та транспонуйте її."
   ]
  },
  {
   "cell_type": "code",
   "execution_count": 31,
   "metadata": {},
   "outputs": [
    {
     "name": "stdout",
     "output_type": "stream",
     "text": [
      "[[0.46254818 0.96441034 0.60717695 0.50197464]\n",
      " [0.15648642 0.14151458 0.67945999 0.31122194]\n",
      " [0.76817891 0.24382216 0.45909595 0.15097137]\n",
      " [0.82921442 0.0572456  0.5233127  0.50871542]]\n",
      "----------\n",
      "[[0.46254818 0.15648642 0.76817891 0.82921442]\n",
      " [0.96441034 0.14151458 0.24382216 0.0572456 ]\n",
      " [0.60717695 0.67945999 0.45909595 0.5233127 ]\n",
      " [0.50197464 0.31122194 0.15097137 0.50871542]]\n"
     ]
    }
   ],
   "source": [
    "t = np.random.random((4, 4))\n",
    "print(t)\n",
    "print(\"----------\")\n",
    "tt = t.T\n",
    "print(tt)"
   ]
  },
  {
   "cell_type": "markdown",
   "metadata": {},
   "source": [
    "Створіть матрицю розміром 3x4 та вектор розміром 4, заповніть їх випадковими цілими числами в діапазоні від 1 до 10 та перемножте матрицю на вектор."
   ]
  },
  {
   "cell_type": "code",
   "execution_count": 30,
   "metadata": {},
   "outputs": [
    {
     "name": "stdout",
     "output_type": "stream",
     "text": [
      "[[ 6  9  3  6]\n",
      " [ 5 10 10  1]\n",
      " [ 8  5  9 10]] \n",
      " [[7]\n",
      " [8]\n",
      " [1]\n",
      " [4]]\n",
      "----------\n",
      "[[141]\n",
      " [129]\n",
      " [145]]\n"
     ]
    }
   ],
   "source": [
    "\n",
    "m = np.random.randint(1, 11, (3, 4))\n",
    "n = np.random.randint(1, 11, (4, 1))\n",
    "print(m, \"\\n\", n)\n",
    "print(\"----------\")\n",
    "print(np.dot(m, n))\n"
   ]
  },
  {
   "cell_type": "markdown",
   "metadata": {},
   "source": [
    "Створіть матрицю розміром 2x3 та вектор розміром 3, заповніть їх випадковими дійсними числами в діапазоні від 0 до 1 та перемножте матрицю на вектор."
   ]
  },
  {
   "cell_type": "code",
   "execution_count": 29,
   "metadata": {},
   "outputs": [
    {
     "name": "stdout",
     "output_type": "stream",
     "text": [
      "[[0.05847357 0.4554842  0.18154827]\n",
      " [0.31539238 0.30933607 0.82124543]] \n",
      " [0.14895306 0.88267782 0.183162  ]\n",
      "----------\n",
      "[0.44400836 0.4704437 ]\n"
     ]
    }
   ],
   "source": [
    "m = np.random.rand(2, 3)\n",
    "v = np.random.rand(3)\n",
    "print(m, \"\\n\", v)\n",
    "print(\"----------\")\n",
    "print(np.dot(m, v))"
   ]
  },
  {
   "cell_type": "markdown",
   "metadata": {},
   "source": [
    "Створіть дві матриці розміром 2x2, заповніть їх випадковими цілими числами в діапазоні від 1 до 10 та виконайте їхнє поелементне множення."
   ]
  },
  {
   "cell_type": "code",
   "execution_count": 28,
   "metadata": {},
   "outputs": [
    {
     "name": "stdout",
     "output_type": "stream",
     "text": [
      "[[9 3]\n",
      " [6 2]] \n",
      " [[ 2  3]\n",
      " [ 6 10]]\n",
      "----------\n",
      "[[18  9]\n",
      " [36 20]]\n"
     ]
    }
   ],
   "source": [
    "m1 = np.random.randint(1, 11, (2, 2))\n",
    "m2 = np.random.randint(1, 11, (2, 2))\n",
    "print(m1, \"\\n\", m2)\n",
    "print(\"----------\")\n",
    "print(m1*m2)"
   ]
  },
  {
   "cell_type": "markdown",
   "metadata": {},
   "source": [
    "Створіть дві матриці розміром 2x2, заповніть їх випадковими цілими числами в діапазоні від 1 до 10 та знайдіть їх добуток."
   ]
  },
  {
   "cell_type": "code",
   "execution_count": 27,
   "metadata": {},
   "outputs": [
    {
     "name": "stdout",
     "output_type": "stream",
     "text": [
      "[[5 9]\n",
      " [9 2]] \n",
      " [[6 7]\n",
      " [3 1]]\n",
      "----------\n",
      "[[57 44]\n",
      " [60 65]]\n"
     ]
    }
   ],
   "source": [
    "m1 = np.random.randint(1, 11, (2, 2))\n",
    "m2 = np.random.randint(1, 11, (2, 2))\n",
    "print(m1, \"\\n\", m2)\n",
    "print(\"----------\")\n",
    "print(np.dot(m1, m2))"
   ]
  },
  {
   "cell_type": "markdown",
   "metadata": {},
   "source": [
    "Створіть матрицю розміром 5x5, заповніть її випадковими цілими числами в діапазоні від 1 до 100 та знайдіть суму елементів матриці."
   ]
  },
  {
   "cell_type": "code",
   "execution_count": 26,
   "metadata": {},
   "outputs": [
    {
     "name": "stdout",
     "output_type": "stream",
     "text": [
      "[[86 92 68 76  6]\n",
      " [ 2 70 50 40  8]\n",
      " [73 47 16 32 50]\n",
      " [93 80 12 43 31]\n",
      " [91 94 41 57 88]]\n",
      "----------\n",
      "1346\n"
     ]
    }
   ],
   "source": [
    "h = np.random.randint(1, 101, (5, 5))\n",
    "print(h)\n",
    "summ = np.sum(h)\n",
    "print(\"----------\")\n",
    "print(summ)"
   ]
  },
  {
   "cell_type": "markdown",
   "metadata": {},
   "source": [
    "Створіть дві матриці розміром 4x4, заповніть їх випадковими цілими числами в діапазоні від 1 до 10 та знайдіть їхню різницю."
   ]
  },
  {
   "cell_type": "code",
   "execution_count": 25,
   "metadata": {},
   "outputs": [
    {
     "name": "stdout",
     "output_type": "stream",
     "text": [
      "[[ 1  2  6  8]\n",
      " [10  1  9  2]\n",
      " [ 5  2 10  2]\n",
      " [ 7  2  2  9]] \n",
      " [[ 5  9  3  7]\n",
      " [ 1  3 10  4]\n",
      " [ 5  6 10  9]\n",
      " [ 1 10 10  9]]\n",
      "----------\n",
      "[[-4 -7  3  1]\n",
      " [ 9 -2 -1 -2]\n",
      " [ 0 -4  0 -7]\n",
      " [ 6 -8 -8  0]]\n"
     ]
    }
   ],
   "source": [
    "a = np.random.randint(1, 11, (4, 4))\n",
    "b = np.random.randint(1, 11, (4, 4))\n",
    "print(a, \"\\n\", b)\n",
    "print(\"----------\")\n",
    "print(a - b)"
   ]
  },
  {
   "cell_type": "markdown",
   "metadata": {},
   "source": [
    "Створіть матрицю розміром 3x3, заповніть її випадковими дійсними числами в діапазоні від 0 до 1 та знайдіть вектор-стовпчик, що містить суму елементів кожного рядка матриці."
   ]
  },
  {
   "cell_type": "code",
   "execution_count": 24,
   "metadata": {},
   "outputs": [
    {
     "name": "stdout",
     "output_type": "stream",
     "text": [
      "[[0.85355733 0.41658464 0.03381375]\n",
      " [0.32228418 0.86813339 0.48906091]\n",
      " [0.0827267  0.18111995 0.66118574]]\n",
      "----------\n",
      "[[1.30395572]\n",
      " [1.67947849]\n",
      " [0.92503239]]\n"
     ]
    }
   ],
   "source": [
    "x = np.random.rand(3, 3)\n",
    "print(x)\n",
    "\n",
    "summ = np.array([sum(row) for row in x])\n",
    "print(\"----------\")\n",
    "print(summ.reshape((-1, 1)))"
   ]
  },
  {
   "cell_type": "markdown",
   "metadata": {},
   "source": [
    "Створіть матрицю розміром 3x4 з довільними цілими числами і створінь матрицю з квадратами цих чисел."
   ]
  },
  {
   "cell_type": "code",
   "execution_count": 23,
   "metadata": {},
   "outputs": [
    {
     "name": "stdout",
     "output_type": "stream",
     "text": [
      "[[ 9  2  3  5]\n",
      " [ 2 10  5  2]\n",
      " [10  5  3 10]]\n",
      "----------\n",
      "[[ 81   4   9  25]\n",
      " [  4 100  25   4]\n",
      " [100  25   9 100]]\n"
     ]
    }
   ],
   "source": [
    "x = np.random.randint(1, 11, (3, 4))\n",
    "print(x)\n",
    "\n",
    "print(\"----------\")\n",
    "print(np.square(x))"
   ]
  },
  {
   "cell_type": "markdown",
   "metadata": {},
   "source": [
    "Створіть вектор розміром 4, заповніть його випадковими цілими числами в діапазоні від 1 до 50 та знайдіть вектор з квадратними коренями цих чисел."
   ]
  },
  {
   "cell_type": "code",
   "execution_count": 39,
   "metadata": {},
   "outputs": [
    {
     "name": "stdout",
     "output_type": "stream",
     "text": [
      "[39 10  4  8]\n",
      "----------\n",
      "[6.244998   3.16227766 2.         2.82842712]\n"
     ]
    }
   ],
   "source": [
    "r = np.random.randint(1, 51, 4)\n",
    "print(r)\n",
    "print(\"----------\")\n",
    "print(np.sqrt(r))"
   ]
  }
 ],
 "metadata": {
  "kernelspec": {
   "display_name": "Python 3",
   "language": "python",
   "name": "python3"
  },
  "language_info": {
   "codemirror_mode": {
    "name": "ipython",
    "version": 3
   },
   "file_extension": ".py",
   "mimetype": "text/x-python",
   "name": "python",
   "nbconvert_exporter": "python",
   "pygments_lexer": "ipython3",
   "version": "3.11.3"
  }
 },
 "nbformat": 4,
 "nbformat_minor": 2
}
